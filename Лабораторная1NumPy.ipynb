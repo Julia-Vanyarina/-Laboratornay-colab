{
  "nbformat": 4,
  "nbformat_minor": 0,
  "metadata": {
    "colab": {
      "name": "Лабораторная1NumPy.ipynb",
      "provenance": [],
      "authorship_tag": "ABX9TyPHRlUD9PzQIHN6THa2nr41",
      "include_colab_link": true
    },
    "kernelspec": {
      "name": "python3",
      "display_name": "Python 3"
    },
    "language_info": {
      "name": "python"
    }
  },
  "cells": [
    {
      "cell_type": "markdown",
      "metadata": {
        "id": "view-in-github",
        "colab_type": "text"
      },
      "source": [
        "<a href=\"https://colab.research.google.com/github/Julia-Vanyarina/-Laboratornay-colab/blob/main/%D0%9B%D0%B0%D0%B1%D0%BE%D1%80%D0%B0%D1%82%D0%BE%D1%80%D0%BD%D0%B0%D1%8F1NumPy.ipynb\" target=\"_parent\"><img src=\"https://colab.research.google.com/assets/colab-badge.svg\" alt=\"Open In Colab\"/></a>"
      ]
    },
    {
      "cell_type": "code",
      "source": [
        "import numpy as np\n"
      ],
      "metadata": {
        "id": "hwJoIL_Sowoy"
      },
      "execution_count": 2,
      "outputs": []
    },
    {
      "cell_type": "markdown",
      "source": [
        "1.1. Считайте число n. Создайте в переменной Z Numpy вектор из нулей длины n\n"
      ],
      "metadata": {
        "id": "lMFpYSDLnd-U"
      }
    },
    {
      "cell_type": "code",
      "source": [
        "n=int(input())\n",
        "Z = np.zeros(n)\n",
        "print(Z)"
      ],
      "metadata": {
        "colab": {
          "base_uri": "https://localhost:8080/"
        },
        "id": "MXOGBt3kni99",
        "outputId": "e541dbfa-8ea8-4a5a-8dc4-d082e4648941"
      },
      "execution_count": null,
      "outputs": [
        {
          "output_type": "stream",
          "name": "stdout",
          "text": [
            "4\n",
            "[0. 0. 0. 0.]\n"
          ]
        }
      ]
    },
    {
      "cell_type": "markdown",
      "source": [
        "1.2 Посчитайте размер матрицы Z в байтах и выведите его на печать."
      ],
      "metadata": {
        "id": "qQMFm7WypTT4"
      }
    },
    {
      "cell_type": "code",
      "source": [
        "Z=np.zeros((10,10))\n",
        "print(Z.itemsize*Z.size)"
      ],
      "metadata": {
        "colab": {
          "base_uri": "https://localhost:8080/"
        },
        "id": "2kb38jMCpd_x",
        "outputId": "49e7bdca-e29d-4f0d-ddac-353a53b7d46c"
      },
      "execution_count": null,
      "outputs": [
        {
          "output_type": "stream",
          "name": "stdout",
          "text": [
            "800\n"
          ]
        }
      ]
    },
    {
      "cell_type": "markdown",
      "source": [
        "1.3. Считайте 2 числа:\n",
        "n - размер Numpy вектора\n",
        "x - координата элемента вектора, который должен быть равен 1. Остальные элементы вектора\n",
        "должны быть равны 0. Сохраните вектор в переменную Z."
      ],
      "metadata": {
        "id": "r2S6-sflrdZo"
      }
    },
    {
      "cell_type": "code",
      "source": [
        "n=int(input())\n",
        "x=int(input())\n",
        "z = np.zeros(n)\n",
        "z[x]=1\n",
        "print(z)"
      ],
      "metadata": {
        "colab": {
          "base_uri": "https://localhost:8080/"
        },
        "id": "V_UfvR63rkYs",
        "outputId": "ca649a3d-ea49-4327-869b-ad71e1054b2a"
      },
      "execution_count": null,
      "outputs": [
        {
          "output_type": "stream",
          "name": "stdout",
          "text": [
            "14\n",
            "5\n",
            "[0. 0. 0. 0. 0. 1. 0. 0. 0. 0. 0. 0. 0. 0.]\n"
          ]
        }
      ]
    },
    {
      "cell_type": "markdown",
      "source": [
        "1.4Считайте 2 числа n, m. Создайте вектор Z состоящий из чисел от n до m с шагом 1."
      ],
      "metadata": {
        "id": "a62bNdmvthZA"
      }
    },
    {
      "cell_type": "code",
      "source": [
        "n=int(input())\n",
        "m=int(input())\n",
        "z=np.arange(n, m+1, 1)\n",
        "print(z)"
      ],
      "metadata": {
        "colab": {
          "base_uri": "https://localhost:8080/"
        },
        "id": "s99Ck-8puOLq",
        "outputId": "6c66ee3a-40e1-415c-88aa-5acf9b5dd7f2"
      },
      "execution_count": null,
      "outputs": [
        {
          "output_type": "stream",
          "name": "stdout",
          "text": [
            "12\n",
            "56\n",
            "[12 13 14 15 16 17 18 19 20 21 22 23 24 25 26 27 28 29 30 31 32 33 34 35\n",
            " 36 37 38 39 40 41 42 43 44 45 46 47 48 49 50 51 52 53 54 55 56]\n"
          ]
        }
      ]
    },
    {
      "cell_type": "markdown",
      "source": [
        "1.5. Дан вектор Z. \"Разверните\" его."
      ],
      "metadata": {
        "id": "z85Aqx9R2o0f"
      }
    },
    {
      "cell_type": "code",
      "source": [
        "z = np.array([1, 2, 3, 4])\n",
        "z = z[::-1]\n",
        "print(z)"
      ],
      "metadata": {
        "colab": {
          "base_uri": "https://localhost:8080/"
        },
        "id": "_47Meyos2sX8",
        "outputId": "8e4dc74d-6123-4f6d-d43e-240e9414cf5e"
      },
      "execution_count": null,
      "outputs": [
        {
          "output_type": "stream",
          "name": "stdout",
          "text": [
            "[4 3 2 1]\n"
          ]
        }
      ]
    },
    {
      "cell_type": "markdown",
      "source": [
        "1.6. Считайте 3 числа:\n",
        "\n",
        "n - количество элементов матрицы\n",
        "\n",
        " m и k - размеры матрицы (число строк и столбцов соответственно)\n",
        "Заполните матрицу Z числами от 0 до n-1 по порядку (сперва строки, потом столбцы).\n",
        "Гарантируется, что m*k = n, т.е. все элементы \"влезут\" в матрицу и не останется\n",
        "пустых мест."
      ],
      "metadata": {
        "id": "xO_FdZsY3A_f"
      }
    },
    {
      "cell_type": "code",
      "source": [
        "n=int(input())\n",
        "m=int(input())\n",
        "k=int(input())\n",
        "z=np.arange(n).reshape(m,k)\n",
        "print(z)"
      ],
      "metadata": {
        "colab": {
          "base_uri": "https://localhost:8080/"
        },
        "id": "m45EA8513JkR",
        "outputId": "df408888-9640-4a53-fe4c-8d32c8bf630a"
      },
      "execution_count": null,
      "outputs": [
        {
          "output_type": "stream",
          "name": "stdout",
          "text": [
            "9\n",
            "3\n",
            "3\n",
            "[[0 1 2]\n",
            " [3 4 5]\n",
            " [6 7 8]]\n"
          ]
        }
      ]
    },
    {
      "cell_type": "markdown",
      "source": [
        "1.7. Дан вектор Z. Запишите в переменную NonZerros индексы ненулевых элементов."
      ],
      "metadata": {
        "id": "Fvr1EiBT3XKW"
      }
    },
    {
      "cell_type": "code",
      "source": [
        "z=np.array(list(map(int, input().split()))) \n",
        "NonZerros=np.nonzero(z)\n",
        "print(NonZerros)"
      ],
      "metadata": {
        "colab": {
          "base_uri": "https://localhost:8080/"
        },
        "id": "gWgK5tjj3dUm",
        "outputId": "96de322f-0e92-48ba-9886-11cd81e6e18e"
      },
      "execution_count": null,
      "outputs": [
        {
          "output_type": "stream",
          "name": "stdout",
          "text": [
            "1 2 0 0 4 0\n",
            "(array([0, 1, 4]),)\n"
          ]
        }
      ]
    },
    {
      "cell_type": "markdown",
      "source": [
        "1.8. Считайте число n. Создайте единичную матрицу размера n, сохраните результат в\n",
        "переменную Z."
      ],
      "metadata": {
        "id": "AikHEw2R3pxf"
      }
    },
    {
      "cell_type": "code",
      "source": [
        "n=int(input())\n",
        "z= np.eye(n)\n",
        "print(z)"
      ],
      "metadata": {
        "colab": {
          "base_uri": "https://localhost:8080/"
        },
        "id": "CtX4cNZK4NDk",
        "outputId": "e3e17665-c3c1-47e2-a048-d782a4e6f4b8"
      },
      "execution_count": null,
      "outputs": [
        {
          "output_type": "stream",
          "name": "stdout",
          "text": [
            "3\n",
            "[[1. 0. 0.]\n",
            " [0. 1. 0.]\n",
            " [0. 0. 1.]]\n"
          ]
        }
      ]
    },
    {
      "cell_type": "markdown",
      "source": [
        "1.9 Считайте 3 числа: n, m, l.. Зафиксируйте значение генератора случайных чисел Numpy\n",
        "с помощью numpy.random.seed(42) . Создайте матрицу n*m*l из случайных чисел (от 0 до 1) и\n",
        "сохраните результат в переменную Z.\n"
      ],
      "metadata": {
        "id": "2u-Fob4b47Wb"
      }
    },
    {
      "cell_type": "code",
      "source": [
        "n=int(input())\n",
        "m=int(input())\n",
        "l=int(input())\n",
        "np.random.seed(42)\n",
        "z=np.random.random((n,m,l))\n",
        "print(z)"
      ],
      "metadata": {
        "colab": {
          "base_uri": "https://localhost:8080/"
        },
        "id": "G-yudesT5AZC",
        "outputId": "19e83000-3a02-4f61-c381-81f24d60794b"
      },
      "execution_count": null,
      "outputs": [
        {
          "output_type": "stream",
          "name": "stdout",
          "text": [
            "2\n",
            "2\n",
            "2\n",
            "[[[0.37454012 0.95071431]\n",
            "  [0.73199394 0.59865848]]\n",
            "\n",
            " [[0.15601864 0.15599452]\n",
            "  [0.05808361 0.86617615]]]\n"
          ]
        }
      ]
    },
    {
      "cell_type": "markdown",
      "source": [
        "1.10. Считайте 2 числа: n, m. Зафиксируйте значение генератора случайных чисел Numpy с помощью numpy.random.seed(42). Создайте матрицу n*m из случайных чисел (от 0 до 1). Выведите на печать значение минимального и максимального чисел в получившейся матрице (каждое с новой строки)."
      ],
      "metadata": {
        "id": "w0xUzj005MIJ"
      }
    },
    {
      "cell_type": "code",
      "source": [
        "n=int(input())\n",
        "m=int(input())\n",
        "np.random.seed(42)\n",
        "z=np.random.random((n,m))\n",
        "print(z.min())\n",
        "print(z.max())"
      ],
      "metadata": {
        "colab": {
          "base_uri": "https://localhost:8080/"
        },
        "id": "lq1PaX4r5RBy",
        "outputId": "a665df24-9105-4d03-9784-58786472b753"
      },
      "execution_count": null,
      "outputs": [
        {
          "output_type": "stream",
          "name": "stdout",
          "text": [
            "10\n",
            "10\n",
            "0.005522117123602399\n",
            "0.9868869366005173\n"
          ]
        }
      ]
    },
    {
      "cell_type": "markdown",
      "source": [
        "1.11. Считайте 2 числа: n, m. Зафиксируйте значение генератора случайных чисел Numpy с помощью numpy.random.seed(42).Создайте матрицу n*m из случайных чисел (от 0 до 1). Выведите на печать значение среднего для всей матрицы."
      ],
      "metadata": {
        "id": "ODL9pjzb5WiY"
      }
    },
    {
      "cell_type": "code",
      "source": [
        "n=int(input())\n",
        "m=int(input())\n",
        "np.random.seed(42)\n",
        "z=np.random.random((n,m))\n",
        "print(z.mean())"
      ],
      "metadata": {
        "colab": {
          "base_uri": "https://localhost:8080/"
        },
        "id": "4-laNMfi5ZTR",
        "outputId": "2b765371-211b-46e4-9d23-db6b473b21a4"
      },
      "execution_count": null,
      "outputs": [
        {
          "output_type": "stream",
          "name": "stdout",
          "text": [
            "12\n",
            "6\n",
            "0.46798212705144554\n"
          ]
        }
      ]
    },
    {
      "cell_type": "markdown",
      "source": [
        "1.12. Переменные A и B содержат по numpy вектору. Найдите их скалярное произведение и сохраните в переменную Z. A и B могут содержать как int, так и float."
      ],
      "metadata": {
        "id": "iOpq8VHv5l_4"
      }
    },
    {
      "cell_type": "code",
      "source": [
        "A=np.array(list(map(float, input().split()))) \n",
        "B=np.array(list(map(float, input().split()))) \n",
        "z= np.dot(A, B)\n",
        "print(z)"
      ],
      "metadata": {
        "colab": {
          "base_uri": "https://localhost:8080/"
        },
        "id": "ZnWaufK25nhY",
        "outputId": "7bff16a5-edeb-4ff9-c4ef-f300e61218de"
      },
      "execution_count": null,
      "outputs": [
        {
          "output_type": "stream",
          "name": "stdout",
          "text": [
            "1 3 5 7 9\n",
            "-2 4 -6 8 -10\n",
            "-54.0\n"
          ]
        }
      ]
    },
    {
      "cell_type": "markdown",
      "source": [
        "1.13. Даны 2 матрицы: A и B. Найдите произведение матриц и сохраните его в переменную Z.\n",
        "Если найти произведение матриц невозможно, то запишите в Z строку:\n",
        "Упс! Что-то пошло не так..."
      ],
      "metadata": {
        "id": "L2hrR1835yrn"
      }
    },
    {
      "cell_type": "code",
      "source": [
        "A=np.array([\n",
        " [1, 2, 3],\n",
        " [4, 5, 6]\n",
        "])\n",
        "B= np.array([\n",
        " [11.5],\n",
        " [12.5],\n",
        " [13.5]\n",
        "])\n",
        "try:\n",
        "  z=np.dot(A, B)\n",
        "  print(z)\n",
        "except:\n",
        "  print(\"Упс! Что-то пошло не так...\")"
      ],
      "metadata": {
        "id": "NG9m7tC551uQ",
        "outputId": "477a3890-31ab-4345-ae4e-c754121725ce",
        "colab": {
          "base_uri": "https://localhost:8080/"
        }
      },
      "execution_count": null,
      "outputs": [
        {
          "output_type": "stream",
          "name": "stdout",
          "text": [
            "[[ 77. ]\n",
            " [189.5]]\n"
          ]
        }
      ]
    },
    {
      "cell_type": "markdown",
      "source": [
        "1.14. Поменяйте знак всех чисел из интервала (3; 9), хранящихся в векторе Z."
      ],
      "metadata": {
        "id": "sevkJrtE778e"
      }
    },
    {
      "cell_type": "code",
      "source": [
        "Z = np.arange(11)\n",
        "Z[(3 < Z) & (Z <= 8)] *= -1\n",
        "print(Z)"
      ],
      "metadata": {
        "colab": {
          "base_uri": "https://localhost:8080/"
        },
        "id": "J0icbOI38FM7",
        "outputId": "76bdc3c5-e0ae-43d2-edab-7f7d794dd56f"
      },
      "execution_count": 3,
      "outputs": [
        {
          "output_type": "stream",
          "name": "stdout",
          "text": [
            "[ 0  1  2  3 -4 -5 -6 -7 -8  9 10]\n"
          ]
        }
      ]
    },
    {
      "cell_type": "code",
      "source": [
        "Z = np.array([-10, -5, 0, 5, 10])\n",
        "Z[(3 < Z) & (Z <= 8)] *= -1\n",
        "print(Z)"
      ],
      "metadata": {
        "colab": {
          "base_uri": "https://localhost:8080/"
        },
        "id": "_yb36tkd8qeC",
        "outputId": "02c2f68e-840d-412b-a9d2-79c6cbc30d23"
      },
      "execution_count": 4,
      "outputs": [
        {
          "output_type": "stream",
          "name": "stdout",
          "text": [
            "[-10  -5   0  -5  10]\n"
          ]
        }
      ]
    },
    {
      "cell_type": "markdown",
      "source": [
        "1.15.Подсчитать произведение ненулевых элементов на диагонали прямоугольной\n",
        "матрицы. Для X = np.array([[1, 0, 1], [2, 0, 2], [3, 0, 3], [4, 4, 4]]) ответ 3."
      ],
      "metadata": {
        "id": "RGdRtwlt9BRa"
      }
    },
    {
      "cell_type": "code",
      "source": [
        "Z = np.diag(np.array([[1, 0, 1], [2, 0, 2], [3, 0, 3], [4, 4, 4]]), k=0)\n",
        "NonZerros=np.nonzero(Z)\n",
        "Z=Z[NonZerros]\n",
        "Z=Z.prod()\n",
        "print(Z)"
      ],
      "metadata": {
        "colab": {
          "base_uri": "https://localhost:8080/"
        },
        "id": "9o33IGbQ9RjX",
        "outputId": "6cf7074a-0c6a-45e6-8b64-ba13bc6d13e8"
      },
      "execution_count": 5,
      "outputs": [
        {
          "output_type": "stream",
          "name": "stdout",
          "text": [
            "3\n"
          ]
        }
      ]
    }
  ]
}